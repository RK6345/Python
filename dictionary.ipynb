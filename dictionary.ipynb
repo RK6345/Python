{
 "cells": [
  {
   "cell_type": "code",
   "execution_count": 13,
   "metadata": {},
   "outputs": [
    {
     "name": "stdout",
     "output_type": "stream",
     "text": [
      "{'name': 'Ankit', 'age': 25, 'city': 'Jaipur'}\n",
      "25\n"
     ]
    }
   ],
   "source": [
    "# Dictionary in Python\n",
    "\n",
    "# used to store data values in key:value pairs\n",
    "# no index position\n",
    "# Keys must be unique and immutable\n",
    "# values can be of any type\n",
    "#  since python 3.7 dict are ordered\n",
    "\n",
    "d = {\"name\": \"Ankit\", \"age\": 25, \"city\": \"Jaipur\"}  # Example dictionary\n",
    "print(d)\n",
    "print(d[\"age\"])\n"
   ]
  },
  {
   "cell_type": "code",
   "execution_count": 14,
   "metadata": {},
   "outputs": [
    {
     "name": "stdout",
     "output_type": "stream",
     "text": [
      "{'name': 'Ankit', 'age': 25, 'city': 'Jaipur', 'gender': 'M'}\n",
      "removed value: 25\n",
      "{'name': 'Ankit', 'city': 'Jaipur', 'gender': 'M'}\n"
     ]
    }
   ],
   "source": [
    "# add new items \n",
    "d[\"gender\"]=\"M\"\n",
    "print(d)\n",
    "\n",
    "# remove element\n",
    "j=d.pop(\"age\")\n",
    "print(\"removed value:\",j)\n",
    "print(d)\n",
    "\n"
   ]
  },
  {
   "cell_type": "code",
   "execution_count": null,
   "metadata": {},
   "outputs": [
    {
     "name": "stdout",
     "output_type": "stream",
     "text": [
      "{'e': 2, 'o': 2, 'a': 4, 'i': 1, 'u': 1}\n"
     ]
    }
   ],
   "source": [
    "# Count of each vowel in a string\n",
    "\n",
    "mydict={}\n",
    "for i in \"Hello Ujjawaal aeiou\":\n",
    "\n",
    "  if i in \"aeiou\":\n",
    "    if i in mydict:\n",
    "       mydict[i]+=1\n",
    "    else:\n",
    "      mydict[i]=1\n",
    "\n",
    "print(mydict)\n"
   ]
  },
  {
   "cell_type": "code",
   "execution_count": null,
   "metadata": {},
   "outputs": [
    {
     "name": "stdout",
     "output_type": "stream",
     "text": [
      "{'hey': 2, 'hi': 2, 'rk': 2, 'dashrath': 1, 'a': 1}\n"
     ]
    }
   ],
   "source": [
    "x=\"hey hey hi hi rk rk dashrath a\".split()\n",
    "mydict={}\n",
    "\n",
    "for i in x:\n",
    "\n",
    "  if i in mydict:\n",
    "    mydict[i]+=1\n",
    "  else:\n",
    "    mydict[i]=1\n",
    "\n",
    "print(mydict)\n"
   ]
  },
  {
   "cell_type": "code",
   "execution_count": null,
   "metadata": {},
   "outputs": [
    {
     "name": "stdout",
     "output_type": "stream",
     "text": [
      "{0: 10, 1: 20, 2: 30, 3: 40, 4: 50}\n"
     ]
    }
   ],
   "source": [
    "# Storing list elements with index positions in dictionary\n",
    "m=[10,20,30,40,50]\n",
    "n={}\n",
    "\n",
    "for i in enumerate(m):\n",
    "\n",
    " key=i[0]\n",
    " data=i[1]\n",
    " n[key]=data\n",
    "print(n)\n",
    "\n"
   ]
  },
  {
   "cell_type": "code",
   "execution_count": null,
   "metadata": {},
   "outputs": [],
   "source": []
  }
 ],
 "metadata": {
  "kernelspec": {
   "display_name": "Python 3",
   "language": "python",
   "name": "python3"
  },
  "language_info": {
   "codemirror_mode": {
    "name": "ipython",
    "version": 3
   },
   "file_extension": ".py",
   "mimetype": "text/x-python",
   "name": "python",
   "nbconvert_exporter": "python",
   "pygments_lexer": "ipython3",
   "version": "3.12.7"
  }
 },
 "nbformat": 4,
 "nbformat_minor": 2
}
