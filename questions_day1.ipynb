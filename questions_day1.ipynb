{
 "cells": [
  {
   "cell_type": "code",
   "execution_count": 5,
   "metadata": {},
   "outputs": [
    {
     "name": "stdout",
     "output_type": "stream",
     "text": [
      "Hello,Adil\n"
     ]
    }
   ],
   "source": [
    "name=input(\"Enter your name\")\n",
    "\n",
    "print(f\"Hello,{name}\")\n"
   ]
  },
  {
   "cell_type": "code",
   "execution_count": 6,
   "metadata": {},
   "outputs": [
    {
     "name": "stdout",
     "output_type": "stream",
     "text": [
      "Negative\n"
     ]
    }
   ],
   "source": [
    "n1=int(input(\"Enter first number : \"))\n",
    "n2=int(input(\"Enter second number : \"))\n",
    "\n",
    "c=n1+n2\n",
    "\n",
    "if c>=0:\n",
    "    print(\"Positive\")\n",
    "else:\n",
    "    print(\"Negative\")\n",
    "\n"
   ]
  },
  {
   "cell_type": "code",
   "execution_count": 1,
   "metadata": {},
   "outputs": [
    {
     "name": "stdout",
     "output_type": "stream",
     "text": [
      "Correct Number \n"
     ]
    }
   ],
   "source": [
    "num=23\n",
    "\n",
    "while True:\n",
    "    s=int(input(\"Guess the number : \"))\n",
    "    if s==num:\n",
    "        print(\"Correct Number \")\n",
    "        break\n"
   ]
  },
  {
   "cell_type": "code",
   "execution_count": 11,
   "metadata": {},
   "outputs": [
    {
     "name": "stdout",
     "output_type": "stream",
     "text": [
      " \n"
     ]
    }
   ],
   "source": [
    "first=input(\"Enter your first name: \")\n",
    "last=input(\"Enter your last name: \")\n",
    "\n",
    "whole=first+\" \"+last \n",
    "\n",
    "print(whole)\n"
   ]
  },
  {
   "cell_type": "code",
   "execution_count": 21,
   "metadata": {},
   "outputs": [
    {
     "name": "stdout",
     "output_type": "stream",
     "text": [
      "hELLO hOW aRE yOU?\n"
     ]
    }
   ],
   "source": [
    "str=\"Hello How Are You?\"\n",
    "togg=\"\"\n",
    "for i in range(len(str)):\n",
    "    if str[i].islower():\n",
    "        togg+=str[i].upper()\n",
    "    elif str[i].isupper():\n",
    "        togg+=str[i].lower()\n",
    "    else:\n",
    "        togg+=str[i]    \n",
    "print(togg)        \n"
   ]
  },
  {
   "cell_type": "code",
   "execution_count": 23,
   "metadata": {},
   "outputs": [
    {
     "name": "stdout",
     "output_type": "stream",
     "text": [
      "34 14400\n"
     ]
    }
   ],
   "source": [
    "m=[10,2,5,8,3,6]\n",
    "sum=0\n",
    "prod=1\n",
    "\n",
    "for i in range(len(m)):\n",
    "\n",
    "    sum+=m[i]\n",
    "    prod*=m[i]\n",
    "\n",
    "print(sum,prod)    \n"
   ]
  },
  {
   "cell_type": "code",
   "execution_count": 27,
   "metadata": {},
   "outputs": [
    {
     "name": "stdout",
     "output_type": "stream",
     "text": [
      "False\n"
     ]
    }
   ],
   "source": [
    "a=[10,2,5,8,3,6]\n",
    "x=22\n",
    "s=False\n",
    "for i in range(len(a)):\n",
    "\n",
    "    if x==a[i]:\n",
    "        s=True\n",
    "        break\n",
    "\n",
    "print(s)        \n",
    "\n"
   ]
  },
  {
   "cell_type": "code",
   "execution_count": null,
   "metadata": {},
   "outputs": [
    {
     "name": "stdout",
     "output_type": "stream",
     "text": [
      "True\n"
     ]
    }
   ],
   "source": [
    "a=[10,2,5,8,3,6]\n",
    "b=[23,45,1,0]\n",
    "s=False\n",
    "for i in range(len(a)):\n",
    "\n",
    "    for j in range(len(b)):\n",
    "\n",
    "        if a[i]==b[j]:\n",
    "            s=True\n",
    "            break\n",
    "\n",
    "print(s)            \n",
    "    \n"
   ]
  },
  {
   "cell_type": "code",
   "execution_count": 35,
   "metadata": {},
   "outputs": [
    {
     "name": "stdout",
     "output_type": "stream",
     "text": [
      "**********\n",
      "**\n",
      "*****\n",
      "********\n",
      "***\n",
      "******\n"
     ]
    }
   ],
   "source": [
    "a=[10,2,5,8,3,6]\n",
    "\n",
    "for i in range(len(a)):\n",
    "    for j in range(a[i]):\n",
    "        print(\"*\",end='')\n",
    "\n",
    "    print()    \n"
   ]
  },
  {
   "cell_type": "code",
   "execution_count": 38,
   "metadata": {},
   "outputs": [
    {
     "name": "stdout",
     "output_type": "stream",
     "text": [
      "participated only in 100m race :  ['Vikay', 'John', 'Kumar', 'Rajesh', 'Malar', 'Vaihai']\n",
      "participated only in 200m race :  ['Vetry', 'Petter', 'Priyanka', 'Kumar', 'Malar']\n"
     ]
    }
   ],
   "source": [
    "hundred_meters = [\"Vikay\", \"John\", \"Kumar\", \"Rajesh\", \"Malar\", \"Vaihai\"]\n",
    "two_hundred_meters = [\"Vetry\", \"Petter\", \"Priyanka\", \"Kumar\", \"Malar\"]\n",
    "\n",
    "print(\"participated only in 100m race : \",hundred_meters)\n",
    "print(\"participated only in 200m race : \",two_hundred_meters)\n",
    "\n",
    "\n"
   ]
  },
  {
   "cell_type": "code",
   "execution_count": 42,
   "metadata": {},
   "outputs": [
    {
     "name": "stdout",
     "output_type": "stream",
     "text": [
      "[8, 18, 5, 3]\n",
      "[5, 8, 4, 18, 55, 6, 3, 44]\n"
     ]
    }
   ],
   "source": [
    "m = [5,8,4,18,8,55,6,8,3,18,5,3,44]\n",
    "org=[]\n",
    "dup=[]\n",
    "for i in range(len(m)):\n",
    "    if m[i] not in org:\n",
    "        org.append(m[i])\n",
    "    elif m[i] not in dup:\n",
    "        dup.append(m[i])\n",
    "\n",
    "print(dup)\n",
    "print(org)\n",
    "\n",
    "        \n"
   ]
  },
  {
   "cell_type": "code",
   "execution_count": null,
   "metadata": {},
   "outputs": [
    {
     "name": "stdout",
     "output_type": "stream",
     "text": [
      "['snack', 'crocodile', 'zebra', 'lion', 'tiger', 'cat']\n"
     ]
    }
   ],
   "source": [
    "m=[\"cat\",\"tiger\",\"lion\",\"zebra\" ,\"crocodile\", \"snack\"]\n",
    "f=0\n",
    "l=len(m)-1\n",
    "while l>f:\n",
    "    temp = m[f]\n",
    "    m[f] = m[l]\n",
    "    m[l] = temp\n",
    "    \n",
    "    l-=1\n",
    "    f+=1\n",
    "print(m)    \n"
   ]
  }
 ],
 "metadata": {
  "kernelspec": {
   "display_name": "Python 3",
   "language": "python",
   "name": "python3"
  },
  "language_info": {
   "codemirror_mode": {
    "name": "ipython",
    "version": 3
   },
   "file_extension": ".py",
   "mimetype": "text/x-python",
   "name": "python",
   "nbconvert_exporter": "python",
   "pygments_lexer": "ipython3",
   "version": "3.12.7"
  }
 },
 "nbformat": 4,
 "nbformat_minor": 2
}
