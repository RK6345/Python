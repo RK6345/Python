{
 "cells": [
  {
   "cell_type": "code",
   "execution_count": 1,
   "metadata": {},
   "outputs": [
    {
     "name": "stdout",
     "output_type": "stream",
     "text": [
      "[1, 3, 5, 7, 9, 11, 13, 15, 17, 19, 21, 23, 25, 27, 29]\n",
      "[2, 4, 6, 8, 10, 12, 14, 16, 18, 20, 22, 24, 26, 28, 30]\n"
     ]
    }
   ],
   "source": [
    "# odd even list upto nth number\n",
    "\n",
    "oddlist=[]\n",
    "evenlist=[]\n",
    "n=30\n",
    "\n",
    "for i in range(1,n+1):\n",
    "    if i%2!=0:\n",
    "        oddlist.append(i)\n",
    "    else:\n",
    "        evenlist.append(i)    \n",
    "\n",
    "print(oddlist)  \n",
    "print(evenlist)      \n"
   ]
  },
  {
   "cell_type": "code",
   "execution_count": 145,
   "metadata": {},
   "outputs": [
    {
     "name": "stdout",
     "output_type": "stream",
     "text": [
      "['r', 'v', 'i', 'r', 'a', 'a', 'j', 'A', 'N', 'D', 'J', 'D', 'E', 'A']\n"
     ]
    }
   ],
   "source": [
    "# Lowercase letter first\n",
    "\n",
    "name = [\"rAviNDra\", \"JaDEjA\"]  \n",
    "\n",
    "low=[]\n",
    "up=[]\n",
    "for i in name:\n",
    "     for s in i:\n",
    "      if s.islower():\n",
    "         low.append(s)\n",
    "      else:\n",
    "         up.append(s)    \n",
    "\n",
    "ord=low+up\n",
    "print(ord)        \n",
    "\n"
   ]
  },
  {
   "cell_type": "code",
   "execution_count": 2,
   "metadata": {},
   "outputs": [
    {
     "name": "stdout",
     "output_type": "stream",
     "text": [
      "54 60\n"
     ]
    }
   ],
   "source": [
    "# Second Highest Number in a list\n",
    "\n",
    "l=[10,30,40,0,60,60,54,60]\n",
    "\n",
    "h=0\n",
    "sh=0 \n",
    "\n",
    "for i in range(0,len(l)):\n",
    "    \n",
    "    if h < l[i]:\n",
    "        sh=h\n",
    "        h=l[i]\n",
    "\n",
    "    elif l[i]>sh and h > l[i]:\n",
    "        sh=l[i]    \n",
    "\n",
    "print(sh , h)\n",
    "\n"
   ]
  },
  {
   "cell_type": "code",
   "execution_count": 3,
   "metadata": {},
   "outputs": [
    {
     "name": "stdout",
     "output_type": "stream",
     "text": [
      "['hey', 'hello', 'we', 'wdf']\n"
     ]
    }
   ],
   "source": [
    "# Remove empty strings from a list\n",
    "\n",
    "x=[\"\",\"hey\",\"\",\"hello\",\"\",\"we\",\"wdf\",\"\",\"\"]\n",
    "y=[]\n",
    "for i in x:\n",
    "    if i !=\"\":\n",
    "        y.append(i)\n",
    "\n",
    "print(y)\n",
    "\n",
    "\n",
    "\n"
   ]
  },
  {
   "cell_type": "code",
   "execution_count": 4,
   "metadata": {},
   "outputs": [
    {
     "name": "stdout",
     "output_type": "stream",
     "text": [
      "[[2, 4], [3, 9], [4, 16], [5, 25], [6, 36], [7, 49]]\n"
     ]
    }
   ],
   "source": [
    "# Element from both lists in a pair\n",
    "\n",
    "firstlist = [2, 3, 4, 5, 6, 7, 8]\n",
    "secondlist = [4, 9, 16, 25, 36, 49, 64]\n",
    "\n",
    "combinedlist=[]\n",
    "\n",
    "for i in range(0,len(firstlist)-1):\n",
    "\n",
    "    combinedlist.append([firstlist[i],secondlist[i]])\n",
    "\n",
    "print(combinedlist)\n"
   ]
  },
  {
   "cell_type": "code",
   "execution_count": 5,
   "metadata": {},
   "outputs": [
    {
     "name": "stdout",
     "output_type": "stream",
     "text": [
      "[10, 11, 'hi', 4.32, True]\n"
     ]
    }
   ],
   "source": [
    "#  Copy of a list\n",
    "\n",
    "m=[10,11,\"hi\",4.32,True]\n",
    "\n",
    "copyofm=[]\n",
    "\n",
    "for i in m:\n",
    "    copyofm.append(i)\n",
    "\n",
    "print(copyofm)\n"
   ]
  },
  {
   "cell_type": "code",
   "execution_count": 6,
   "metadata": {},
   "outputs": [
    {
     "name": "stdout",
     "output_type": "stream",
     "text": [
      "381.98\n"
     ]
    }
   ],
   "source": [
    "# Sum of number of digit in a list\n",
    "m=[23,5,8.98,345]\n",
    "sum=0\n",
    "\n",
    "for i in m:\n",
    "\n",
    "    sum+=i\n",
    "\n",
    "print(sum)\n"
   ]
  },
  {
   "cell_type": "code",
   "execution_count": 7,
   "metadata": {},
   "outputs": [
    {
     "name": "stdout",
     "output_type": "stream",
     "text": [
      "1\n"
     ]
    }
   ],
   "source": [
    "# Smallest number in a list\n",
    "m=[2,4,5,63,76,1]\n",
    "\n",
    "small=m[0]\n",
    "\n",
    "for i in m:\n",
    "    if small>i:\n",
    "        small=i\n",
    "\n",
    "print(small)\n"
   ]
  },
  {
   "cell_type": "code",
   "execution_count": 8,
   "metadata": {},
   "outputs": [
    {
     "name": "stdout",
     "output_type": "stream",
     "text": [
      "count of even numbers =  3\n",
      "count of odd numbers =  5\n"
     ]
    }
   ],
   "source": [
    "# Count of even and odd num from a list\n",
    "\n",
    "m=[1,3,4,5,6,7,8,9]\n",
    "\n",
    "even=0\n",
    "odd=0\n",
    "\n",
    "for i in m:\n",
    "    if i%2==0:\n",
    "        even+=1\n",
    "    else:\n",
    "        odd+=1\n",
    "\n",
    "print(\"count of even numbers = \",even)\n",
    "print(\"count of odd numbers = \",odd)\n",
    "\n"
   ]
  },
  {
   "cell_type": "code",
   "execution_count": 9,
   "metadata": {},
   "outputs": [
    {
     "name": "stdout",
     "output_type": "stream",
     "text": [
      "5\n",
      "[1, 2, 5, 8, 4]\n"
     ]
    }
   ],
   "source": [
    "# Count of unique values inside a list\n",
    "\n",
    "input_list = [1, 2, 2, 5, 8, 4, 4, 8]\n",
    "count=0\n",
    "copy=[]\n",
    "\n",
    "for i in input_list:\n",
    "\n",
    "    if i not in copy:\n",
    "       copy.append(i)\n",
    "       count+=1\n",
    "\n",
    "print(count)\n",
    "print(copy)\n"
   ]
  },
  {
   "cell_type": "code",
   "execution_count": null,
   "metadata": {},
   "outputs": [],
   "source": []
  }
 ],
 "metadata": {
  "kernelspec": {
   "display_name": "Python 3",
   "language": "python",
   "name": "python3"
  },
  "language_info": {
   "codemirror_mode": {
    "name": "ipython",
    "version": 3
   },
   "file_extension": ".py",
   "mimetype": "text/x-python",
   "name": "python",
   "nbconvert_exporter": "python",
   "pygments_lexer": "ipython3",
   "version": "3.12.7"
  }
 },
 "nbformat": 4,
 "nbformat_minor": 2
}
