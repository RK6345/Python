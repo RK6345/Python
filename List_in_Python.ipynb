{
  "cells": [
    {
      "cell_type": "code",
      "execution_count": 1,
      "id": "e7bb7c95",
      "metadata": {
        "id": "e7bb7c95"
      },
      "outputs": [],
      "source": [
        "# List ===>\n",
        "# (1). Idenatification = []\n",
        "# (2). Mutable data type ==> We can change or update our values at a run time .\n",
        "# (3). Indexing start from 0 and length start from 1 .\n",
        "# (4). This is a container in which we can store or assign the values ."
      ]
    },
    {
      "cell_type": "code",
      "execution_count": 2,
      "id": "5b038146",
      "metadata": {
        "colab": {
          "base_uri": "https://localhost:8080/"
        },
        "id": "5b038146",
        "outputId": "511c947a-d5e3-4bae-bfd7-5b3208d70454"
      },
      "outputs": [
        {
          "output_type": "execute_result",
          "data": {
            "text/plain": [
              "list"
            ]
          },
          "metadata": {},
          "execution_count": 2
        }
      ],
      "source": [
        "a = ['sam' , 45 , 'Rahul',67.34]\n",
        "type(a)"
      ]
    },
    {
      "cell_type": "code",
      "execution_count": 3,
      "id": "f3d1473c",
      "metadata": {
        "colab": {
          "base_uri": "https://localhost:8080/"
        },
        "id": "f3d1473c",
        "outputId": "8e77eb95-74a4-47b9-9ac8-7d48fdf74011"
      },
      "outputs": [
        {
          "output_type": "stream",
          "name": "stdout",
          "text": [
            "sam\n",
            "45\n",
            "Rahul\n",
            "67.34\n"
          ]
        }
      ],
      "source": [
        "# Mutable\n",
        "print(a[0])\n",
        "print(a[1])\n",
        "print(a[2])\n",
        "print(a[3])"
      ]
    },
    {
      "cell_type": "code",
      "execution_count": 4,
      "id": "a684c78e",
      "metadata": {
        "colab": {
          "base_uri": "https://localhost:8080/"
        },
        "id": "a684c78e",
        "outputId": "0c631093-205b-47c9-f442-3a124a066a3d"
      },
      "outputs": [
        {
          "output_type": "stream",
          "name": "stdout",
          "text": [
            "sam\n",
            "45\n",
            "Rahul\n",
            "67.34\n"
          ]
        }
      ],
      "source": [
        "for i in range (len(a)):\n",
        "    print(a[i])"
      ]
    },
    {
      "cell_type": "code",
      "execution_count": 5,
      "id": "f50efe46",
      "metadata": {
        "colab": {
          "base_uri": "https://localhost:8080/"
        },
        "id": "f50efe46",
        "outputId": "91439c6e-a08b-4c3d-db44-6c84ce89a798"
      },
      "outputs": [
        {
          "output_type": "stream",
          "name": "stdout",
          "text": [
            "sam 45 Rahul 67.34 "
          ]
        }
      ],
      "source": [
        "for i in range (len(a)):\n",
        "    print(a[i] , end = \" \")"
      ]
    },
    {
      "cell_type": "code",
      "execution_count": 6,
      "id": "185f3a5d",
      "metadata": {
        "colab": {
          "base_uri": "https://localhost:8080/"
        },
        "id": "185f3a5d",
        "outputId": "7a02da27-b04d-4c4b-dadd-232353ca5e87"
      },
      "outputs": [
        {
          "output_type": "execute_result",
          "data": {
            "text/plain": [
              "['sam', 45, 'Rahul', 67.34]"
            ]
          },
          "metadata": {},
          "execution_count": 6
        }
      ],
      "source": [
        "a"
      ]
    },
    {
      "cell_type": "code",
      "execution_count": 7,
      "id": "dfc393ea",
      "metadata": {
        "colab": {
          "base_uri": "https://localhost:8080/"
        },
        "id": "dfc393ea",
        "outputId": "0a6059ec-72a5-43da-e710-06b15435bd5c"
      },
      "outputs": [
        {
          "output_type": "stream",
          "name": "stdout",
          "text": [
            "['sam', 45, 'Mohit', 67.34]\n"
          ]
        }
      ],
      "source": [
        "a[2] = 'Mohit'\n",
        "print(a)"
      ]
    },
    {
      "cell_type": "code",
      "execution_count": 8,
      "id": "ca2b6ebf",
      "metadata": {
        "colab": {
          "base_uri": "https://localhost:8080/"
        },
        "id": "ca2b6ebf",
        "outputId": "a61b7e98-a668-4f36-e1e9-6b7d60a91078"
      },
      "outputs": [
        {
          "output_type": "stream",
          "name": "stdout",
          "text": [
            "2\n"
          ]
        }
      ],
      "source": [
        "# Functions in List\n",
        "# (1). index()\n",
        "a = ['sam', 45, 'Mohit', 67.34]\n",
        "print(a.index('Mohit'))"
      ]
    },
    {
      "cell_type": "code",
      "execution_count": 9,
      "id": "a0a61582",
      "metadata": {
        "colab": {
          "base_uri": "https://localhost:8080/"
        },
        "id": "a0a61582",
        "outputId": "fcb33f17-c420-4b07-c107-d89f719aa979"
      },
      "outputs": [
        {
          "output_type": "execute_result",
          "data": {
            "text/plain": [
              "4"
            ]
          },
          "metadata": {},
          "execution_count": 9
        }
      ],
      "source": [
        "# (2). len()\n",
        "a = ['sam', 45, 'Mohit', 67.34]\n",
        "len(a)"
      ]
    },
    {
      "cell_type": "code",
      "execution_count": 10,
      "id": "fe5b8bd6",
      "metadata": {
        "colab": {
          "base_uri": "https://localhost:8080/"
        },
        "id": "fe5b8bd6",
        "outputId": "9811c769-02e9-4d80-b14a-d7b5c3eacc68"
      },
      "outputs": [
        {
          "output_type": "execute_result",
          "data": {
            "text/plain": [
              "['sam', 45, 'Mohit', 67.34, 'Rohit']"
            ]
          },
          "metadata": {},
          "execution_count": 10
        }
      ],
      "source": [
        "# (3). append() ==> it will add element in the last indexing of list  .\n",
        "a = ['sam', 45, 'Mohit', 67.34]\n",
        "a.append('Rohit')\n",
        "a"
      ]
    },
    {
      "cell_type": "code",
      "execution_count": 11,
      "id": "4cf8b5f9",
      "metadata": {
        "colab": {
          "base_uri": "https://localhost:8080/"
        },
        "id": "4cf8b5f9",
        "outputId": "cc6102b0-2dda-43b3-ecb0-bed8f3408fa4"
      },
      "outputs": [
        {
          "output_type": "execute_result",
          "data": {
            "text/plain": [
              "['sam', 7000, 45, 'Mohit', 67.34]"
            ]
          },
          "metadata": {},
          "execution_count": 11
        }
      ],
      "source": [
        "# insert(index , object) ===>\n",
        "a = ['sam', 45, 'Mohit', 67.34]\n",
        "a.insert(1, 7000)\n",
        "a"
      ]
    },
    {
      "cell_type": "code",
      "execution_count": 12,
      "id": "e5f2f903",
      "metadata": {
        "colab": {
          "base_uri": "https://localhost:8080/"
        },
        "id": "e5f2f903",
        "outputId": "1b8c7382-9d6f-4852-fd38-302b5a443bb9"
      },
      "outputs": [
        {
          "output_type": "execute_result",
          "data": {
            "text/plain": [
              "3"
            ]
          },
          "metadata": {},
          "execution_count": 12
        }
      ],
      "source": [
        "# count() ===>\n",
        "a = ['sam', 45, 'Mohit', 67.34 , 45 , 45]\n",
        "a.count(45)"
      ]
    },
    {
      "cell_type": "code",
      "execution_count": 13,
      "id": "079a4d0c",
      "metadata": {
        "colab": {
          "base_uri": "https://localhost:8080/"
        },
        "id": "079a4d0c",
        "outputId": "6ea4330c-1389-4ef7-cf48-1880263286b3"
      },
      "outputs": [
        {
          "output_type": "execute_result",
          "data": {
            "text/plain": [
              "['sam', 45, 'Mohit']"
            ]
          },
          "metadata": {},
          "execution_count": 13
        }
      ],
      "source": [
        "# pop() -===> delete the element  from the last indexing.\n",
        "a = ['sam', 45, 'Mohit', 67.34]\n",
        "a.pop()\n",
        "a"
      ]
    },
    {
      "cell_type": "code",
      "execution_count": 14,
      "id": "ec572fa8",
      "metadata": {
        "colab": {
          "base_uri": "https://localhost:8080/"
        },
        "id": "ec572fa8",
        "outputId": "b105d07a-860b-4fee-b797-f2cb6117cf4a"
      },
      "outputs": [
        {
          "output_type": "execute_result",
          "data": {
            "text/plain": [
              "['sam', 'Mohit', 67.34]"
            ]
          },
          "metadata": {},
          "execution_count": 14
        }
      ],
      "source": [
        "# remove() ===> it will remove the element\n",
        "a = ['sam', 45, 'Mohit', 67.34]\n",
        "a.remove(45)\n",
        "a"
      ]
    },
    {
      "cell_type": "markdown",
      "id": "34cdf142",
      "metadata": {
        "id": "34cdf142"
      },
      "source": [
        "# How can we create a user defined List ?"
      ]
    },
    {
      "cell_type": "code",
      "execution_count": 16,
      "id": "921ea138",
      "metadata": {
        "colab": {
          "base_uri": "https://localhost:8080/"
        },
        "id": "921ea138",
        "outputId": "dccc86b3-e7f7-4905-ab7a-5e26c4937434"
      },
      "outputs": [
        {
          "output_type": "stream",
          "name": "stdout",
          "text": [
            "Enter size:4\n",
            "Enter item:2\n",
            "Enter item:321\n",
            "Enter item:49\n",
            "Enter item:51\n",
            "[2, 321, 49, 51]\n"
          ]
        }
      ],
      "source": [
        "a = []\n",
        "size = int(input(\"Enter size:\"))\n",
        "for i in range(size):\n",
        "    val = int(input(\"Enter item:\"))\n",
        "    a.append(val)\n",
        "print(a)"
      ]
    },
    {
      "cell_type": "code",
      "execution_count": 17,
      "id": "fc80b2cf",
      "metadata": {
        "colab": {
          "base_uri": "https://localhost:8080/"
        },
        "id": "fc80b2cf",
        "outputId": "ae9fc339-b7f6-4f51-ebcc-31b260d8f3d1"
      },
      "outputs": [
        {
          "output_type": "stream",
          "name": "stdout",
          "text": [
            "Enter size:6\n",
            "Enter item:-3\n",
            "Enter item:7\n",
            "Enter item:54\n",
            "Enter item:24\n",
            "Enter item:0\n",
            "Enter item:98\n",
            "[-3, 7, 54, 24, 0, 98]\n",
            "Total Add =  180\n"
          ]
        }
      ],
      "source": [
        "a = []\n",
        "size = int(input(\"Enter size:\"))\n",
        "for i in range(size):\n",
        "    val = int(input(\"Enter item:\"))\n",
        "    a.append(val)\n",
        "print(a)\n",
        "sum = 0\n",
        "for i in range(len(a)):\n",
        "    sum = sum + a[i]\n",
        "print(\"Total Add = \" , sum)"
      ]
    }
  ],
  "metadata": {
    "kernelspec": {
      "display_name": "Python 3 (ipykernel)",
      "language": "python",
      "name": "python3"
    },
    "language_info": {
      "codemirror_mode": {
        "name": "ipython",
        "version": 3
      },
      "file_extension": ".py",
      "mimetype": "text/x-python",
      "name": "python",
      "nbconvert_exporter": "python",
      "pygments_lexer": "ipython3",
      "version": "3.9.12"
    },
    "colab": {
      "provenance": []
    }
  },
  "nbformat": 4,
  "nbformat_minor": 5
}