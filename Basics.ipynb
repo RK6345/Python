{
 "cells": [
  {
   "cell_type": "code",
   "execution_count": 4,
   "id": "11b26215-549e-4a5f-9835-a0fd12b0d5c2",
   "metadata": {},
   "outputs": [
    {
     "name": "stdout",
     "output_type": "stream",
     "text": [
      "Hello\n"
     ]
    }
   ],
   "source": [
    "# First Program\n",
    "print(\"Hello\")"
   ]
  },
  {
   "cell_type": "code",
   "execution_count": null,
   "id": "06e5c3ba-783c-4499-b833-5079499decf1",
   "metadata": {},
   "outputs": [],
   "source": [
    "# Program to find sum and product of two numbers\n",
    "\n",
    "a=int(input(\"Enter first number :\"))\n",
    "b=int(input(\"Enter second number :\"))\n",
    "\n",
    "print(\"Sum of two number is :\" , a+b)\n",
    "print(\"Multiplication of two number is :\" , a*b)\n"
   ]
  },
  {
   "cell_type": "code",
   "execution_count": null,
   "id": "b4450fe6-ee60-4b9c-9b80-bd1322a39b92",
   "metadata": {},
   "outputs": [],
   "source": [
    "# Program to find area of Rectangle\n",
    "\n",
    "x=float(input(\"Enter lenghth:\"))\n",
    "y=float(input(\"Enter breadth:\"))\n",
    "print(\"Area of rectangle is :\" , x*y)"
   ]
  },
  {
   "cell_type": "code",
   "execution_count": 2,
   "id": "b6b0edf4-16dd-4f8f-acc5-7acde72cb0a9",
   "metadata": {},
   "outputs": [
    {
     "name": "stdin",
     "output_type": "stream",
     "text": [
      "Enter the side of square : 4\n"
     ]
    },
    {
     "name": "stdout",
     "output_type": "stream",
     "text": [
      "Area of square is :  16.0\n"
     ]
    }
   ],
   "source": [
    "# Program to find area of square\n",
    "\n",
    "side=float(input(\"Enter the side of square :\"))\n",
    "print(\"Area of square is : \" , side*side)\n"
   ]
  },
  {
   "cell_type": "code",
   "execution_count": null,
   "id": "7fef1bad-362f-415c-b8d6-541fa25b34a7",
   "metadata": {},
   "outputs": [],
   "source": [
    "# Program to find average of two float no.\n",
    "\n",
    "n1=float(input(\"Enter first no. :\"))\n",
    "n2=float(input(\"Enter second no. :\"))\n",
    "print(\"Average of two no. is :\" , (n1+n2)/2)"
   ]
  },
  {
   "cell_type": "code",
   "execution_count": null,
   "id": "8aea28ed-ee86-48e0-b99f-44cf5796e982",
   "metadata": {},
   "outputs": [],
   "source": [
    "#  Program to find a greater number\n",
    "\n",
    "num1=int(input(\"Enter value of num1 :\"))\n",
    "num2=int(input(\"Enter value of num2 :\"))\n",
    "if num1>num2:\n",
    "   print(\"num1 is greater\")\n",
    "elif(num1==num2) :\n",
    "   print(\"Both are equal\") \n",
    "else:\n",
    "   print(\"num2 is greater\")"
   ]
  },
  {
   "cell_type": "code",
   "execution_count": 3,
   "id": "b6047b4a-c561-4858-8978-752194f94d93",
   "metadata": {},
   "outputs": [
    {
     "name": "stdin",
     "output_type": "stream",
     "text": [
      "Enter your marks : 2\n"
     ]
    },
    {
     "name": "stdout",
     "output_type": "stream",
     "text": [
      "You have failed\n"
     ]
    }
   ],
   "source": [
    "# Program to find Grade of students\n",
    "\n",
    "m=int(input(\"Enter your marks :\"))\n",
    "\n",
    "if m >= 90 and m <= 100:\n",
    "   print(\"Grade is A\")    \n",
    "elif m >= 75:\n",
    "    print(\"Grade is B\")\n",
    "elif m >= 60:\n",
    "    print(\"Grade is C\")\n",
    "elif m > 40:\n",
    "    print(\"Grade is D\")\n",
    "elif m < 40:\n",
    "    print(\"You have failed\")\n",
    "else:\n",
    "    print(\"Invalid Number, Marks should be between 0 and 100\")"
   ]
  },
  {
   "cell_type": "code",
   "execution_count": null,
   "id": "faf37592-24e5-4895-b66c-868834d60001",
   "metadata": {},
   "outputs": [],
   "source": []
  }
 ],
 "metadata": {
  "kernelspec": {
   "display_name": "Python 3 (ipykernel)",
   "language": "python",
   "name": "python3"
  },
  "language_info": {
   "codemirror_mode": {
    "name": "ipython",
    "version": 3
   },
   "file_extension": ".py",
   "mimetype": "text/x-python",
   "name": "python",
   "nbconvert_exporter": "python",
   "pygments_lexer": "ipython3",
   "version": "3.12.7"
  }
 },
 "nbformat": 4,
 "nbformat_minor": 5
}
