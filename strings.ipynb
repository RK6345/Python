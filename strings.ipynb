{
 "cells": [
  {
   "cell_type": "code",
   "execution_count": 1,
   "metadata": {},
   "outputs": [
    {
     "name": "stdout",
     "output_type": "stream",
     "text": [
      "[22, 4, 0, True, 'j']\n"
     ]
    }
   ],
   "source": [
    "m=[22,4,00,True]\n",
    "m.append(\"j\")\n",
    "print(m)\n"
   ]
  },
  {
   "cell_type": "code",
   "execution_count": 8,
   "metadata": {},
   "outputs": [
    {
     "name": "stdout",
     "output_type": "stream",
     "text": [
      "[22, 4, 0, 'h', 'e', 'y']\n"
     ]
    }
   ],
   "source": [
    "m=[22,4,00]\n",
    "m.extend(\"hey\")\n",
    "print(m)\n"
   ]
  },
  {
   "cell_type": "code",
   "execution_count": null,
   "metadata": {},
   "outputs": [
    {
     "name": "stdout",
     "output_type": "stream",
     "text": [
      "[10, 20, 30, 'hey', 'hey', 'hey', 'hey']\n"
     ]
    }
   ],
   "source": [
    "m=[10,20,30,60,70,80,765]\n",
    "t=50\n",
    "\n",
    "for i in range(len(m)):\n",
    "    if m[i]>t:\n",
    "        m[i]=\"hey\"\n",
    "\n",
    "print(m)        \n"
   ]
  },
  {
   "cell_type": "code",
   "execution_count": null,
   "metadata": {},
   "outputs": [
    {
     "name": "stdout",
     "output_type": "stream",
     "text": [
      "200\n"
     ]
    }
   ],
   "source": [
    "m=[10,200,30,60,70,80,7]\n",
    "\n",
    "max =0\n",
    "\n",
    "for i in range(len(m)):\n",
    "    if m[i]>max:\n",
    "        max=m[i]\n",
    "\n",
    "print(max)        \n"
   ]
  },
  {
   "cell_type": "code",
   "execution_count": null,
   "metadata": {},
   "outputs": [
    {
     "name": "stdout",
     "output_type": "stream",
     "text": [
      "-30\n"
     ]
    }
   ],
   "source": [
    "m=[1,200,-30,60,70,80,7]\n",
    "\n",
    "min=m[0]\n",
    "\n",
    "for i in range(len(m)):\n",
    "    if m[i]<min:\n",
    "        min=m[i]\n",
    "\n",
    "print(min)        \n"
   ]
  },
  {
   "cell_type": "code",
   "execution_count": null,
   "metadata": {},
   "outputs": [
    {
     "name": "stdout",
     "output_type": "stream",
     "text": [
      "200\n"
     ]
    }
   ],
   "source": [
    "m=[10,200,30,60,70,80,7]\n",
    "\n",
    "g =m[0]\n",
    "\n",
    "for i in range(len(m)):\n",
    "    if m[i]>g:\n",
    "        g=m[i]\n",
    "\n",
    "print(g)        \n"
   ]
  },
  {
   "cell_type": "code",
   "execution_count": 99,
   "metadata": {},
   "outputs": [
    {
     "name": "stdout",
     "output_type": "stream",
     "text": [
      "20 10\n"
     ]
    }
   ],
   "source": [
    "m=[10,10,20,20]\n",
    "sec=0\n",
    "high =0\n",
    "\n",
    "for i in range(len(m)):\n",
    "    if m[i]>high:\n",
    "        sec=high\n",
    "        high=m[i]\n",
    "       \n",
    "    elif m[i]>sec and m[i]!=high:\n",
    "        sec=m[i]    \n",
    "\n",
    "print(high,sec) \n"
   ]
  },
  {
   "cell_type": "code",
   "execution_count": null,
   "metadata": {},
   "outputs": [
    {
     "name": "stdout",
     "output_type": "stream",
     "text": [
      "70\n"
     ]
    }
   ],
   "source": [
    "m=[10,200,30,70,80,7]\n",
    "\n",
    "\n",
    "print(m[len(m)//2])\n"
   ]
  },
  {
   "cell_type": "code",
   "execution_count": null,
   "metadata": {},
   "outputs": [
    {
     "name": "stdout",
     "output_type": "stream",
     "text": [
      "397\n"
     ]
    }
   ],
   "source": [
    "m=[10,200,30,70,80,7]\n",
    "\n",
    "total=0\n",
    "\n",
    "for i in range(len(m)):\n",
    "    total+=m[i]\n",
    "\n",
    "print(total)\n"
   ]
  },
  {
   "cell_type": "code",
   "execution_count": 26,
   "metadata": {},
   "outputs": [
    {
     "name": "stdout",
     "output_type": "stream",
     "text": [
      "66.16666666666667\n"
     ]
    }
   ],
   "source": [
    "m=[10,200,30,70,80,7]\n",
    "\n",
    "total=0\n",
    "\n",
    "for i in range(len(m)):\n",
    "    total+=m[i]\n",
    "avg=total/len(m)\n",
    "\n",
    "print(avg)\n"
   ]
  },
  {
   "cell_type": "code",
   "execution_count": 11,
   "metadata": {},
   "outputs": [
    {
     "name": "stdout",
     "output_type": "stream",
     "text": [
      "20 30\n",
      "10 40\n",
      "30 20\n",
      "40 10\n"
     ]
    }
   ],
   "source": [
    "m=[20,34,10,76,43,30,40]\n",
    "t=50\n",
    "for i in range(len(m)):\n",
    "    for j in range(len(m)):\n",
    "        if m[i]+m[j]==t:\n",
    "            print(m[i],m[j])\n"
   ]
  },
  {
   "cell_type": "code",
   "execution_count": 2,
   "metadata": {},
   "outputs": [
    {
     "name": "stdout",
     "output_type": "stream",
     "text": [
      "[0, 2, 4, 6, 8, 10, 12, 14, 16, 18, 20, 22, 24, 26, 28, 30, 32, 34, 36, 38, 40, 42, 44, 46, 48, 50, 52, 54, 56, 58, 60, 62, 64, 66, 68, 70, 72, 74, 76, 78, 80, 82, 84, 86, 88, 90, 92, 94, 96, 98, 100]\n"
     ]
    }
   ],
   "source": [
    "\n",
    "m=[x for x in range(101) if x%2==0]\n",
    "print(m)\n"
   ]
  },
  {
   "cell_type": "code",
   "execution_count": 11,
   "metadata": {},
   "outputs": [
    {
     "name": "stdout",
     "output_type": "stream",
     "text": [
      "{'A': 65, 'B': 66, 'C': 67, 'D': 68, 'E': 69, 'F': 70, 'G': 71, 'H': 72, 'I': 73, 'J': 74, 'K': 75, 'L': 76, 'M': 77, 'N': 78, 'O': 79, 'P': 80, 'Q': 81, 'R': 82, 'S': 83, 'T': 84, 'U': 85, 'V': 86, 'W': 87, 'X': 88, 'Y': 89, 'Z': 90}\n"
     ]
    }
   ],
   "source": [
    "d={}\n",
    "\n",
    "for i in range(65,91):\n",
    "    d[chr(i)]=i\n",
    "\n",
    "print(d)    \n",
    "\n"
   ]
  },
  {
   "cell_type": "code",
   "execution_count": 21,
   "metadata": {},
   "outputs": [
    {
     "name": "stdout",
     "output_type": "stream",
     "text": [
      "abcd\n",
      "a\n"
     ]
    }
   ],
   "source": [
    "d=\"abcd\"\n",
    "d.upper\n",
    "print(d)\n",
    "print(chr(97))\n"
   ]
  },
  {
   "cell_type": "code",
   "execution_count": 28,
   "metadata": {},
   "outputs": [
    {
     "name": "stdout",
     "output_type": "stream",
     "text": [
      "{1, 2, 3, 4, 5, 6655}\n"
     ]
    }
   ],
   "source": [
    "s={1,2,3,4,5}\n",
    "s.add(6655)\n",
    "print(s)\n",
    "\n"
   ]
  },
  {
   "cell_type": "code",
   "execution_count": null,
   "metadata": {},
   "outputs": [
    {
     "name": "stdout",
     "output_type": "stream",
     "text": [
      "[1, 2, 3] [1, 2, 3, 4]\n"
     ]
    }
   ],
   "source": [
    "x=[1,2,3]\n",
    "y=x[:]\n",
    "y.append(4)\n",
    "print(x,y)\n"
   ]
  },
  {
   "cell_type": "code",
   "execution_count": 35,
   "metadata": {},
   "outputs": [
    {
     "name": "stdout",
     "output_type": "stream",
     "text": [
      "True\n"
     ]
    }
   ],
   "source": [
    "thisset = {\"apple\", \"banana\", \"cherry\"}\n",
    "\n",
    "print(\"banana\" in thisset)\n"
   ]
  },
  {
   "cell_type": "code",
   "execution_count": 4,
   "metadata": {},
   "outputs": [
    {
     "name": "stdout",
     "output_type": "stream",
     "text": [
      "{3}\n",
      "{3}\n"
     ]
    },
    {
     "data": {
      "text/plain": [
       "False"
      ]
     },
     "execution_count": 4,
     "metadata": {},
     "output_type": "execute_result"
    }
   ],
   "source": [
    "a = {1, 2, 3}\n",
    "b = {5, 3, 4}\n",
    "print(a.intersection(b))  # Output: {2, 3}\n",
    "print(a & b)  # Same as intersection()\n",
    "a.isdisjoint(b)\n"
   ]
  },
  {
   "cell_type": "code",
   "execution_count": 6,
   "metadata": {},
   "outputs": [
    {
     "name": "stdout",
     "output_type": "stream",
     "text": [
      "30\n"
     ]
    }
   ],
   "source": [
    "m=[20,34,10,76,43,30,40]\n",
    "t=50\n",
    "x=m[0]\n",
    "for i in range(len(m)):\n",
    "    \n",
    "        if m[i]+x==t:\n",
    "                print(m[i])\n"
   ]
  },
  {
   "cell_type": "code",
   "execution_count": 8,
   "metadata": {},
   "outputs": [
    {
     "name": "stdout",
     "output_type": "stream",
     "text": [
      "rk\n",
      "ak\n"
     ]
    }
   ],
   "source": [
    "d={10:\"rk\",20:\"ak\"}\n",
    "for i in d.values():\n",
    "    print(i)\n"
   ]
  },
  {
   "cell_type": "code",
   "execution_count": 12,
   "metadata": {},
   "outputs": [
    {
     "name": "stdout",
     "output_type": "stream",
     "text": [
      "2\n",
      "100\n",
      "5\n",
      "4\n",
      "a\n",
      "763\n"
     ]
    }
   ],
   "source": [
    "for i in {100,2,763,4,'a',5}:\n",
    "    print(i)\n"
   ]
  },
  {
   "cell_type": "code",
   "execution_count": 5,
   "metadata": {},
   "outputs": [
    {
     "name": "stdout",
     "output_type": "stream",
     "text": [
      "invalid\n"
     ]
    }
   ],
   "source": [
    "# Valid Parenthesis\n",
    "\n",
    "d=\")(\"\n",
    "l=[]\n",
    "x=True\n",
    "for c in d:\n",
    "    if c in \"({[\":\n",
    "        l.append(c)\n",
    "\n",
    "    elif len(l)>0:\n",
    "        if (c==\")\" and \"(\"==l[-1]) or (c==\"}\" and \"{\"==l[-1]) or (c==\"]\" and \"[\"==l[-1]):\n",
    "           l.pop()  \n",
    "        else:\n",
    "            x=False\n",
    "            break\n",
    "    # else:  \n",
    "    #     x = False\n",
    "    #     break    \n",
    "\n",
    "if x==True and len(l)==0:\n",
    "    print(\"valid\")\n",
    "else:\n",
    "    print(\"invalid\")    \n"
   ]
  },
  {
   "cell_type": "code",
   "execution_count": 87,
   "metadata": {},
   "outputs": [
    {
     "name": "stdout",
     "output_type": "stream",
     "text": [
      "     1 \n",
      "    1 1 \n",
      "   1 2 1 \n",
      "  1 3 3 1 \n",
      " 1 4 6 4 1 \n",
      "[[1], [1, 1], [1, 2, 1], [1, 3, 3, 1], [1, 4, 6, 4, 1]]\n"
     ]
    }
   ],
   "source": [
    "# Pascal Traingle\n",
    "\n",
    "n=5\n",
    "l=[]\n",
    "\n",
    "for i in range(n):\n",
    "    t=[]\n",
    "    for s in range(i,n):\n",
    "        print(\" \",end='')\n",
    "    for j in range(i+1):\n",
    "        if j==0 or j==i:\n",
    "            print(1,end=' ')\n",
    "            t.append(1)\n",
    "        else:\n",
    "            # print(\" \",end=' ')  \n",
    "            x=l[i-1][j] + l[i-1][j-1]\n",
    "            print(x,end=' ')\n",
    "            t.append(x)\n",
    "    l.append(t) \n",
    "    print()          \n",
    "   \n",
    "print(l)\n"
   ]
  },
  {
   "cell_type": "code",
   "execution_count": null,
   "metadata": {},
   "outputs": [
    {
     "name": "stdout",
     "output_type": "stream",
     "text": [
      "M 1949\n",
      "MM 949\n",
      "MMCM 49\n",
      "MMCMXL 9\n",
      "MMCMXLIX 0\n",
      "MMCMXLIX\n"
     ]
    }
   ],
   "source": [
    "# Interger to Roman\n",
    "n=2949\n",
    "s=\"\"\n",
    "d={1000:\"M\",900:\"CM\",500:\"D\",400:\"CD\",100:\"C\",90:\"XC\",50:\"L\",40:\"XL\",10:\"X\",9:\"IX\",5:\"V\",4:\"IV\",1:\"I\"}\n",
    "\n",
    "for i in d.items():\n",
    "   \n",
    "   while n >= i[0]:\n",
    "         \n",
    "         if n >= i[0]:\n",
    "            s+=i[1]\n",
    "            n-=i[0]\n",
    "                    \n",
    "print(s)\n",
    "\n"
   ]
  },
  {
   "cell_type": "code",
   "execution_count": 100,
   "metadata": {},
   "outputs": [],
   "source": [
    "# Interger to Roman\n",
    "class Solution:\n",
    "    def intToRoman(self,num : int)->str:  \n",
    "\n",
    "        s=\"\"\n",
    "        d={1000:\"M\",900:\"CM\",500:\"D\",400:\"CD\",100:\"C\",90:\"XC\",50:\"L\",40:\"XL\",10:\"X\",9:\"IX\",5:\"V\",4:\"IV\",1:\"I\"}\n",
    "\n",
    "    \n",
    "        for i in d.items():\n",
    "                 \n",
    "                 while num>=i[0]:\n",
    "    \n",
    "                      s+=i[1]\n",
    "                      num-=i[0]\n",
    "           \n",
    "\n",
    "        return s\n",
    "\n"
   ]
  },
  {
   "cell_type": "code",
   "execution_count": 1,
   "metadata": {},
   "outputs": [
    {
     "name": "stdout",
     "output_type": "stream",
     "text": [
      "valid anagram\n"
     ]
    }
   ],
   "source": [
    "s = \"anagram\"\n",
    "t = \"nagaram\"\n",
    "d1={}\n",
    "d2={}\n",
    "for c in s:\n",
    "    if c not in d1:\n",
    "        d1[c]=1\n",
    "    else:\n",
    "        d1[c]+=1\n",
    "\n",
    "for x in t:\n",
    "    if x not in d2:\n",
    "        d2[x]=1\n",
    "    else:\n",
    "        d2[x]+=1\n",
    "\n",
    "if d1==d2:\n",
    "    print(\"valid anagram\")        \n",
    "\n",
    "else:\n",
    "    print(\"not a valid anagram\")\n",
    "\n",
    "\n",
    "\n"
   ]
  },
  {
   "cell_type": "code",
   "execution_count": 1,
   "metadata": {},
   "outputs": [
    {
     "name": "stdout",
     "output_type": "stream",
     "text": [
      "3 7\n"
     ]
    }
   ],
   "source": [
    "m=[26,200,3,60,70,80,7]\n",
    "\n",
    "min=m[0]\n",
    "min2=m[0]\n",
    "\n",
    "for i in range(len(m)):\n",
    "    if m[i]<min:\n",
    "        min2=min\n",
    "        min=m[i]\n",
    "    elif m[i]<min2 and m[i]!=min:\n",
    "        min2=m[i]\n",
    "\n",
    "print(min,min2)        \n"
   ]
  },
  {
   "cell_type": "code",
   "execution_count": 4,
   "metadata": {},
   "outputs": [
    {
     "name": "stdout",
     "output_type": "stream",
     "text": [
      "[26, 200, 3, 60, 70, 7]\n",
      "[60, 200]\n"
     ]
    }
   ],
   "source": [
    "m=[26,200,3,60,70,60,7,200]\n",
    "dup=[]\n",
    "org=[]\n",
    "\n",
    "for i in range(len(m)):\n",
    "    if m[i] not in org:\n",
    "        org.append(m[i])\n",
    "    elif m[i] not in dup:\n",
    "        dup.append(m[i])        \n",
    "\n",
    "print(org)\n",
    "print(dup)\n"
   ]
  },
  {
   "cell_type": "code",
   "execution_count": 1,
   "metadata": {},
   "outputs": [
    {
     "name": "stdout",
     "output_type": "stream",
     "text": [
      "[]\n",
      "[]\n"
     ]
    }
   ],
   "source": [
    "m=[26,200,3,60,70,60,7,200]\n",
    "dup=[]\n",
    "org=[]\n",
    "\n",
    "org=[x for x in m if x not in m ]       \n",
    "\n",
    "print(org)\n",
    "print(dup)\n"
   ]
  },
  {
   "cell_type": "code",
   "execution_count": 9,
   "metadata": {},
   "outputs": [
    {
     "ename": "ValueError",
     "evalue": "invalid literal for int() with base 10: ''",
     "output_type": "error",
     "traceback": [
      "\u001b[1;31m---------------------------------------------------------------------------\u001b[0m",
      "\u001b[1;31mValueError\u001b[0m                                Traceback (most recent call last)",
      "Cell \u001b[1;32mIn[9], line 1\u001b[0m\n\u001b[1;32m----> 1\u001b[0m y\u001b[38;5;241m=\u001b[39m\u001b[38;5;28;43mint\u001b[39;49m\u001b[43m(\u001b[49m\u001b[38;5;28;43minput\u001b[39;49m\u001b[43m(\u001b[49m\u001b[38;5;124;43m\"\u001b[39;49m\u001b[38;5;124;43mEnter year: \u001b[39;49m\u001b[38;5;124;43m\"\u001b[39;49m\u001b[43m)\u001b[49m\u001b[43m)\u001b[49m\n\u001b[0;32m      2\u001b[0m \u001b[38;5;28;01mif\u001b[39;00m y\u001b[38;5;241m%\u001b[39m\u001b[38;5;241m400\u001b[39m\u001b[38;5;241m==\u001b[39m\u001b[38;5;241m0\u001b[39m \u001b[38;5;129;01mor\u001b[39;00m (y\u001b[38;5;241m%\u001b[39m\u001b[38;5;241m4\u001b[39m\u001b[38;5;241m==\u001b[39m\u001b[38;5;241m0\u001b[39m \u001b[38;5;129;01mand\u001b[39;00m y\u001b[38;5;241m%\u001b[39m\u001b[38;5;241m100\u001b[39m\u001b[38;5;241m!=\u001b[39m\u001b[38;5;241m0\u001b[39m):\n\u001b[0;32m      3\u001b[0m     \u001b[38;5;28mprint\u001b[39m(\u001b[38;5;124m\"\u001b[39m\u001b[38;5;124mLeap year\u001b[39m\u001b[38;5;124m\"\u001b[39m)\n",
      "\u001b[1;31mValueError\u001b[0m: invalid literal for int() with base 10: ''"
     ]
    }
   ],
   "source": [
    "y=int(input(\"Enter year: \"))\n",
    "if y%400==0 or (y%4==0 and y%100!=0):\n",
    "    print(\"Leap year\")\n",
    "else:\n",
    "    print(\"not a leap year\")\n"
   ]
  },
  {
   "cell_type": "code",
   "execution_count": 1,
   "metadata": {},
   "outputs": [
    {
     "name": "stdout",
     "output_type": "stream",
     "text": [
      "['k', 'j', 'h', 'h', 'g', 'f', 'd', 's']\n"
     ]
    }
   ],
   "source": [
    "s=\"kjhhgfds\"\n",
    "m=[x for x in s]\n",
    "print(m)\n"
   ]
  },
  {
   "cell_type": "code",
   "execution_count": 1,
   "metadata": {},
   "outputs": [
    {
     "data": {
      "text/plain": [
       "True"
      ]
     },
     "execution_count": 1,
     "metadata": {},
     "output_type": "execute_result"
    }
   ],
   "source": [
    "s={1,2,3,4}\n",
    "b={1,2,4}\n",
    "# s.isdisjoint(b)\n",
    "# s.issuperset(b)\n",
    "b.issubset(s)\n"
   ]
  },
  {
   "cell_type": "code",
   "execution_count": null,
   "metadata": {},
   "outputs": [
    {
     "name": "stdout",
     "output_type": "stream",
     "text": [
      "[55, 32, 4, 3, 2, 1]\n"
     ]
    }
   ],
   "source": [
    "l=[2,55,32,4,1,3]\n",
    "\n",
    "for i in range(len(l)):\n",
    "    for j in range(i+1,len(l)):\n",
    "        \n",
    "        if l[i]<=l[j]:\n",
    "            temp=l[i]\n",
    "            l[i]=l[j]\n",
    "            l[j]=temp\n",
    "print(l)\n"
   ]
  },
  {
   "cell_type": "code",
   "execution_count": 2,
   "metadata": {},
   "outputs": [
    {
     "data": {
      "text/plain": [
       "{1212: False}"
      ]
     },
     "execution_count": 2,
     "metadata": {},
     "output_type": "execute_result"
    }
   ],
   "source": [
    "def pal(num):\n",
    "    rev=0\n",
    "    org=num\n",
    "    while num>0:\n",
    "        rem=num%10\n",
    "        rev=rev*10+rem\n",
    "        num//=10\n",
    "\n",
    "    d={}\n",
    "    if rev==org:\n",
    "        d[org]=True\n",
    "    else:\n",
    "        d[org]=False\n",
    "    return d\n",
    "\n",
    "pal(1212)\n",
    "\n",
    "    "
   ]
  },
  {
   "cell_type": "code",
   "execution_count": null,
   "metadata": {},
   "outputs": [
    {
     "name": "stdout",
     "output_type": "stream",
     "text": [
      "******\n",
      " *****\n",
      "  ****\n",
      "   ***\n",
      "    **\n",
      "     *\n",
      "    **\n",
      "   ***\n",
      "  ****\n",
      " *****\n",
      "******\n"
     ]
    }
   ],
   "source": [
    "n=6\n",
    "\n",
    "for i in range(0,n):\n",
    "    for s in range (0,i):\n",
    "        print(\" \",end='')\n",
    "    for j in range(i,n):\n",
    "        print(\"*\",end='')\n",
    "    print()\n",
    "\n",
    "for i in range(1,n):\n",
    "    for s in range(i+1,n):\n",
    "        print(\" \",end='')\n",
    "    for j in range(0,i+1):\n",
    "        print(\"*\",end='') \n",
    "    print()                   \n"
   ]
  },
  {
   "cell_type": "code",
   "execution_count": 2,
   "metadata": {},
   "outputs": [
    {
     "name": "stdout",
     "output_type": "stream",
     "text": [
      "['o', 'l', 'n', 'l', 'e', 'h']\n"
     ]
    }
   ],
   "source": [
    "s=[\"h\",\"e\",\"l\",\"n\",\"l\",\"o\"]\n",
    "f=0\n",
    "l=len(s)-1\n",
    "\n",
    "while f<l:\n",
    "    temp=s[l]\n",
    "    s[l]=s[f]\n",
    "    s[f]=temp\n",
    "    f+=1\n",
    "    l-=1\n",
    "\n",
    "print(s)\n"
   ]
  },
  {
   "cell_type": "code",
   "execution_count": null,
   "metadata": {},
   "outputs": [],
   "source": [
    "# Second Lowest Score Finder\n",
    "\n",
    "if __name__ == '__main__':\n",
    "        \n",
    "        my=[]\n",
    "        for _ in range(int(input())):\n",
    "        \n",
    "             name = input()\n",
    "             score = float(input())\n",
    "             my.append([name,score])\n",
    "        \n",
    "        l=float(\"inf\")\n",
    "        sl=float(\"inf\")\n",
    "            \n",
    "        for i in range(len(my)):\n",
    "            \n",
    "                    if my[i][1]<l:\n",
    "                        sl=l\n",
    "                        l=my[i][1]\n",
    "\n",
    "                    elif my[i][1]<sl and my[i][1]!=l:\n",
    "                        sl=my[i][1]\n",
    "                    \n",
    "        s=[]\n",
    "        for j in range(len(my)):\n",
    "                   \n",
    "                    if sl == my[j][1]:\n",
    "                        s.append(my[j][0]) \n",
    "        for i in range(len(s)):\n",
    "            for j in range(i+1,len(s)):\n",
    "                if s[i]>s[j]:\n",
    "                    temp=s[i]\n",
    "                    s[i]=s[j]\n",
    "                    s[j]=temp\n",
    "        for j in s:\n",
    "            print(j)            \n"
   ]
  }
 ],
 "metadata": {
  "kernelspec": {
   "display_name": "Python 3",
   "language": "python",
   "name": "python3"
  },
  "language_info": {
   "codemirror_mode": {
    "name": "ipython",
    "version": 3
   },
   "file_extension": ".py",
   "mimetype": "text/x-python",
   "name": "python",
   "nbconvert_exporter": "python",
   "pygments_lexer": "ipython3",
   "version": "3.12.7"
  }
 },
 "nbformat": 4,
 "nbformat_minor": 2
}
