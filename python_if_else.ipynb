{
 "cells": [
  {
   "cell_type": "code",
   "execution_count": null,
   "id": "5ff1308b-caef-4d4d-a863-f2ca1fb5125a",
   "metadata": {},
   "outputs": [],
   "source": [
    "# Odd Even program\n",
    "\n",
    "x=int(input(\"Enter a number : \"))\n",
    "\n",
    "\n",
    "if (x%2==0):\n",
    "  print(\"Number is even\")\n",
    "else:\n",
    "  print(\"number is odd\")  \n"
   ]
  },
  {
   "cell_type": "code",
   "execution_count": null,
   "id": "2407e720-3317-45d7-a338-d992ef73b7c6",
   "metadata": {},
   "outputs": [],
   "source": [
    "# Program to find greatest among three numbers\n",
    "\n",
    "a=int(input(\"Enter a number :\"))\n",
    "b=int(input(\"Enter a number :\"))\n",
    "c=int(input(\"Enter a number :\"))\n",
    "\n",
    "if(a>b and a>c):\n",
    "  print(\"a is greatest\")\n",
    "elif(b>a and b>c):\n",
    "  print(\"b is greatest\")  \n",
    "else:\n",
    " print(\"c is greatest\")  "
   ]
  },
  {
   "cell_type": "code",
   "execution_count": null,
   "id": "23621a9c-7621-4e6b-95a1-342efac32f2d",
   "metadata": {},
   "outputs": [],
   "source": [
    "# Program to check Leap year\n",
    "\n",
    "year=int(input(\"Enter year:\"))\n",
    "\n",
    "if(year % 4 ==0 and year%100!=0 ) or year % 400==0:\n",
    "  print(\"Leap year\")\n",
    "else:\n",
    "  print(\"not a leap year\")\n"
   ]
  },
  {
   "cell_type": "code",
   "execution_count": null,
   "id": "daede347-5ebb-460c-b785-f071e51eabf3",
   "metadata": {},
   "outputs": [],
   "source": [
    "# Grade System\n",
    "\n",
    "marks=int(input(\"Enter your number : \"))\n",
    "\n",
    "if marks>=90 and marks<=100:\n",
    "    print(\"Grade A\")\n",
    "elif marks>=80 and marks<90:\n",
    "    print (\"Grade B\")\n",
    "elif marks>=70 and marks<80:\n",
    "    print(\"Grade C\")\n",
    "elif marks >=60 and marks<70:\n",
    "    print(\"Grade D\")\n",
    "elif marks<60:\n",
    "    print(\"Grade F\")\n",
    "else:\n",
    "    print(\"Marks should be between 0 to 100\")\n"
   ]
  },
  {
   "cell_type": "code",
   "execution_count": 3,
   "id": "0acb392e-494e-49f4-b4b7-98b2657f0535",
   "metadata": {},
   "outputs": [
    {
     "name": "stdin",
     "output_type": "stream",
     "text": [
      "Enter a character :  1\n"
     ]
    },
    {
     "name": "stdout",
     "output_type": "stream",
     "text": [
      "Invalid input\n"
     ]
    }
   ],
   "source": [
    "# Vowel and Consonant check\n",
    "n=input(\"Enter a character : \")\n",
    "if len(n)==1:\n",
    "\n",
    "    if n in \"aeiou\" or n in \"AEIOU\":\n",
    "        print(\"Vowel\")\n",
    "    \n",
    "    elif n.isalpha():\n",
    "        print(\"Consonant\")\n",
    "        \n",
    "    else:\n",
    "        print(\"Invalid input\")\n",
    "else:\n",
    "    print(\"Invalid input\")      \n",
    "        \n"
   ]
  },
  {
   "cell_type": "code",
   "execution_count": 4,
   "id": "bd026ac3-3035-466b-8547-58135cf937f3",
   "metadata": {},
   "outputs": [
    {
     "name": "stdin",
     "output_type": "stream",
     "text": [
      "Enter first number : 3\n",
      "Enter second number : 4\n",
      "Which operation you want to perform :  *\n"
     ]
    },
    {
     "name": "stdout",
     "output_type": "stream",
     "text": [
      "Multiplication of two number is : 12\n"
     ]
    }
   ],
   "source": [
    "# Basic Calculator\n",
    "\n",
    "num1=int(input(\"Enter first number :\"))\n",
    "num2=int(input(\"Enter second number :\"))\n",
    "\n",
    "\n",
    "op=(input(\"Which operation you want to perform : \"))\n",
    "\n",
    "if op=='+':\n",
    "    print(\"sum of two number is :\", num1+num2)\n",
    "elif op=='-':\n",
    "    print(\"subtraction of two number is :\", num1-num2)\n",
    "elif op=='*':\n",
    "    print(\"Multiplication of two number is :\", num1*num2)  \n",
    "elif op=='/':\n",
    "    print(\"Division of two number is :\", num1/num2)      \n",
    "elif op=='%':\n",
    "    print(\"Modulus of two number is :\", num1%num2)    \n",
    "else :\n",
    "    print(\"Invalid Input\")    \n"
   ]
  },
  {
   "cell_type": "code",
   "execution_count": 5,
   "id": "14e338eb-2600-4b4e-bf2c-24a8c5949704",
   "metadata": {},
   "outputs": [
    {
     "name": "stdin",
     "output_type": "stream",
     "text": [
      "Enter a number : 3\n"
     ]
    },
    {
     "name": "stdout",
     "output_type": "stream",
     "text": [
      "Positive\n"
     ]
    }
   ],
   "source": [
    "# Positive or Negative Number \n",
    "\n",
    "num=int(input(\"Enter a number :\"))\n",
    "\n",
    "if num>0:\n",
    "   print(\"Positive\")\n",
    "elif num<0:\n",
    "   print(\"Negative\")\n",
    "else:\n",
    "   print(\"zero\")\n"
   ]
  },
  {
   "cell_type": "code",
   "execution_count": 6,
   "id": "9c591c2a-0744-4ad1-b1c9-63bfbcffc90a",
   "metadata": {},
   "outputs": [
    {
     "name": "stdin",
     "output_type": "stream",
     "text": [
      "Enter username :  12\n",
      "Enter password : 123\n"
     ]
    },
    {
     "name": "stdout",
     "output_type": "stream",
     "text": [
      "Login Failed\n"
     ]
    }
   ],
   "source": [
    "# Basic Login System\n",
    "username=\"admin\"\n",
    "password=1234\n",
    "\n",
    "user=input(\"Enter username : \")\n",
    "passc=int(input(\"Enter password :\"))\n",
    "\n",
    "if user==username and passc==password:\n",
    "    print(\"Login Successfull\")\n",
    "else:\n",
    "    print(\"Login Failed\")    \n",
    "    "
   ]
  },
  {
   "cell_type": "code",
   "execution_count": 7,
   "id": "f8b98109-15da-4102-848a-76676f570fcf",
   "metadata": {},
   "outputs": [
    {
     "name": "stdin",
     "output_type": "stream",
     "text": [
      "Enter first side :  2\n",
      "enter second side :  3\n",
      "enter third side :  4\n"
     ]
    },
    {
     "name": "stdout",
     "output_type": "stream",
     "text": [
      "Valid Triangle\n"
     ]
    }
   ],
   "source": [
    "#  Valid Triangle Check\n",
    "\n",
    "a=int(input(\"Enter first side : \"))  \n",
    "b= int(input(\"enter second side : \"))  \n",
    "c= int(input(\"enter third side : \")) \n",
    "\n",
    "if a+b>c and b+c>a and a+c>b:\n",
    "    print(\"Valid Triangle\")\n",
    "   \n",
    "else: \n",
    "     print(\"Invalid Traingle\") "
   ]
  },
  {
   "cell_type": "code",
   "execution_count": 8,
   "id": "c84c9a5d-79b0-43e5-b3f1-a5de20df774c",
   "metadata": {},
   "outputs": [
    {
     "name": "stdin",
     "output_type": "stream",
     "text": [
      "Enter height :  180\n",
      "Enter weight :  49\n"
     ]
    },
    {
     "name": "stdout",
     "output_type": "stream",
     "text": [
      "15.123456790123456\n",
      "Underweigt\n"
     ]
    }
   ],
   "source": [
    "#  BMI Calculator\n",
    "\n",
    "height=int(input(\"Enter height : \"))\n",
    "weight=int(input(\"Enter weight : \"))\n",
    "height=height/100\n",
    "bmi=weight/(height*height)\n",
    "\n",
    "print(bmi)\n",
    "\n",
    "if bmi<18.5:\n",
    "    print(\"Underweigt\")\n",
    "elif  bmi >= 18.5 and bmi<25 :\n",
    "    print(\"Normal Weight\")\n",
    "elif bmi>=25 and bmi<30 :\n",
    "    print(\"Overweight\")   \n",
    "elif bmi>=30:\n",
    "    print(\"Obesity\") "
   ]
  },
  {
   "cell_type": "code",
   "execution_count": 10,
   "id": "6eb9bae5-91f2-4083-88bb-d6c25389ba93",
   "metadata": {},
   "outputs": [
    {
     "name": "stdin",
     "output_type": "stream",
     "text": [
      "Enter price :  3000\n"
     ]
    },
    {
     "name": "stdout",
     "output_type": "stream",
     "text": [
      "discount is  300.0\n"
     ]
    }
   ],
   "source": [
    "#  Discount Calculator\n",
    "\n",
    "price=int(input(\"Enter price : \"))\n",
    "\n",
    "if price>=1000:\n",
    "    discount=price/100*10\n",
    "    print(\"discount is \", discount)\n",
    "\n",
    "elif price>=500 and price<1000:\n",
    "    discount=price/100*5\n",
    "    print(\"discount is \" ,discount)\n",
    "\n",
    "else:\n",
    "    print(\"no discount\")"
   ]
  },
  {
   "cell_type": "code",
   "execution_count": 11,
   "id": "34f1928d-ba93-4ff4-8281-b61f8862db50",
   "metadata": {},
   "outputs": [
    {
     "name": "stdin",
     "output_type": "stream",
     "text": [
      "enter month name :  june\n"
     ]
    },
    {
     "name": "stdout",
     "output_type": "stream",
     "text": [
      "30 Days\n"
     ]
    }
   ],
   "source": [
    "#  Month Days finder\n",
    "\n",
    "a=input(\"enter month name : \")\n",
    "\n",
    "if a=='january' or a=='march' or a=='may' or a=='august' or a=='july' or a=='october' or a=='december':\n",
    "  print(\"31 days\")\n",
    "\n",
    "elif a=='april' or a=='june' or a=='september' or a=='november':\n",
    "  print(\"30 Days\")\n",
    "\n",
    "elif a=='february':\n",
    "  year=int(input(\"Enter year\"))\n",
    "  if (year%4==0 and year%100!=0) or year % 400 == 0:\n",
    "    print(\"29 days\")\n",
    "  else:\n",
    "    print(\"28 Days\")  \n"
   ]
  },
  {
   "cell_type": "code",
   "execution_count": 12,
   "id": "8a3ae81a-a38a-48d2-8355-e3cc6604039a",
   "metadata": {},
   "outputs": [
    {
     "name": "stdin",
     "output_type": "stream",
     "text": [
      "Choose these option : 1 Check Balance 2 Deposit Money 3 Withdraw money  3\n",
      "Enter how much you want to withdraw :  20\n"
     ]
    },
    {
     "name": "stdout",
     "output_type": "stream",
     "text": [
      "withdraw amount is  20\n",
      "updated balance is  5480\n"
     ]
    }
   ],
   "source": [
    "#  Basic Banking Program\n",
    "\n",
    "balance=5500\n",
    "a=int(input(\"Choose these option : 1 Check Balance 2 Deposit Money 3 Withdraw money \"))\n",
    "\n",
    "if a==1:\n",
    "  print(balance)\n",
    "elif a==2:\n",
    "  add=int(input(\"enter amount you want to add : \")) \n",
    "  balance+=add \n",
    "  print(\"updated balance is \",balance)\n",
    "\n",
    "elif a==3:\n",
    "  withdraw=int(input(\"Enter how much you want to withdraw : \"))\n",
    "  if withdraw>balance:\n",
    "    print(\"withdraw amount is greater than current balance \")\n",
    "  else:\n",
    "    balance-=withdraw\n",
    "    print(\"withdraw amount is \",withdraw)\n",
    "    print(\"updated balance is \", balance)  \n",
    "else:\n",
    "    print(\"inavlid option. choose btw 1 2 3\")\n",
    "\n"
   ]
  },
  {
   "cell_type": "code",
   "execution_count": null,
   "id": "f08ceb2b-6326-45be-ad14-2f65ad646d56",
   "metadata": {},
   "outputs": [],
   "source": [
    "#  Age Group Classifier\n",
    "age=int(input(\"Enter your age : \"))\n",
    "\n",
    "if age <=0:\n",
    "    print(\"Enter a valid age\")\n",
    "elif age<=1:\n",
    "  print(\"Infant\")\n",
    "elif age>=2 and age<=5:\n",
    "  print(\"Toddler\")\n",
    "elif age>=6 and age<=12:\n",
    "  print(\"Child\")  \n",
    "elif age>=13 and age<=17:\n",
    "  print(\"Teenager\") \n",
    "elif age>=18 and age <=59:\n",
    "  print(\"Adult\")  \n",
    "else:\n",
    "  print(\"Senior Citizen\")  \n"
   ]
  },
  {
   "cell_type": "code",
   "execution_count": null,
   "id": "1a1f1057-e0d1-4c61-9654-e9b1ef822c7e",
   "metadata": {},
   "outputs": [],
   "source": [
    "# Weekday Finder\n",
    "n=int(input(\"Enter a number btw 1 to 7 : \"))\n",
    "\n",
    "if n==1:\n",
    "  print(\"Monday\")\n",
    "elif n==2:\n",
    "  print(\"Tuesday\")  \n",
    "elif n==3:\n",
    "  print(\"Wednesday\")  \n",
    "elif n==4:\n",
    "  print(\"Thursday\")  \n",
    "elif n==5:\n",
    "  print(\"Friday\")  \n",
    "elif n==6:\n",
    "  print(\"Saturday\")  \n",
    "elif n==7:\n",
    "  print(\"Sunday\")       \n",
    "else:  \n",
    "  print(\"Input should be between 1 to 7\")"
   ]
  }
 ],
 "metadata": {
  "kernelspec": {
   "display_name": "Python 3 (ipykernel)",
   "language": "python",
   "name": "python3"
  },
  "language_info": {
   "codemirror_mode": {
    "name": "ipython",
    "version": 3
   },
   "file_extension": ".py",
   "mimetype": "text/x-python",
   "name": "python",
   "nbconvert_exporter": "python",
   "pygments_lexer": "ipython3",
   "version": "3.12.7"
  }
 },
 "nbformat": 4,
 "nbformat_minor": 5
}
