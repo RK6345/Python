{
 "cells": [
  {
   "cell_type": "code",
   "execution_count": 1,
   "id": "b5894e66-43e5-4a2a-a85e-ee9134298be3",
   "metadata": {},
   "outputs": [
    {
     "name": "stdin",
     "output_type": "stream",
     "text": [
      "Enter a number :  10\n"
     ]
    },
    {
     "name": "stdout",
     "output_type": "stream",
     "text": [
      "1 2 3 4 5 6 7 8 9 10 "
     ]
    }
   ],
   "source": [
    "# Count from 1 to num\n",
    "\n",
    "num=int(input(\"Enter a number : \"))\n",
    "i=1\n",
    "while num>=i:\n",
    "    print(i,end=' ')\n",
    "    i+=1"
   ]
  },
  {
   "cell_type": "code",
   "execution_count": 3,
   "id": "0ba4d142-07b6-431c-bea9-de25978012b0",
   "metadata": {},
   "outputs": [
    {
     "name": "stdin",
     "output_type": "stream",
     "text": [
      "Enter a number :  10\n"
     ]
    },
    {
     "name": "stdout",
     "output_type": "stream",
     "text": [
      "10 9 8 7 6 5 4 3 2 1 "
     ]
    }
   ],
   "source": [
    "# Count from num to to 1\n",
    "\n",
    "num=int(input(\"Enter a number : \"))\n",
    "\n",
    "while num>0:\n",
    "    print(num, end=' ')\n",
    "    num-=1\n"
   ]
  },
  {
   "cell_type": "code",
   "execution_count": 4,
   "id": "19e3870a-0ece-4582-9489-086f1bae4b6f",
   "metadata": {},
   "outputs": [
    {
     "name": "stdout",
     "output_type": "stream",
     "text": [
      "a b c d e f g h i j k l m n o p q r s t u v w x y z "
     ]
    }
   ],
   "source": [
    "# Small Alphabets \n",
    "\n",
    "small=97    \n",
    "while small<123:\n",
    "    print(chr(small),end=' ')\n",
    "    small+=1\n"
   ]
  },
  {
   "cell_type": "code",
   "execution_count": 5,
   "id": "af2b5de8-3650-4673-b0f8-d36a82dbe165",
   "metadata": {},
   "outputs": [
    {
     "name": "stdout",
     "output_type": "stream",
     "text": [
      "2 4 6 8 10 12 14 16 18 20 22 24 26 28 30 32 34 36 38 40 42 44 46 48 50 52 54 56 58 60 62 64 66 68 70 72 74 76 78 80 82 84 86 88 90 92 94 96 98 100 "
     ]
    }
   ],
   "source": [
    "#  Even Number from 2 to 100\n",
    "\n",
    "num=2\n",
    "\n",
    "while num<=100:\n",
    "\n",
    "    if num % 2==0:\n",
    "        print(num,end=' ')\n",
    "    num+=1"
   ]
  },
  {
   "cell_type": "code",
   "execution_count": 12,
   "id": "76f954b7-e744-4317-b501-7c9455245823",
   "metadata": {},
   "outputs": [
    {
     "name": "stdin",
     "output_type": "stream",
     "text": [
      "Enter a number :  10\n"
     ]
    },
    {
     "name": "stdout",
     "output_type": "stream",
     "text": [
      "Sum of all odd numbers upto 10 is 25\n"
     ]
    }
   ],
   "source": [
    "# Sum of all odd numbers upto num\n",
    "\n",
    "num=int(input(\"Enter a number : \"))\n",
    "total=0\n",
    "org=num\n",
    "while num>0:\n",
    "    if num%2!=0:\n",
    "        total+=num\n",
    "     \n",
    "    num-=1    \n",
    "\n",
    "print(f\"Sum of all odd numbers upto {org} is {total}\")   \n"
   ]
  },
  {
   "cell_type": "code",
   "execution_count": 9,
   "id": "f32c9dd7-bd28-4d68-96f6-5be67fef19ce",
   "metadata": {},
   "outputs": [
    {
     "name": "stdin",
     "output_type": "stream",
     "text": [
      "Enter a number :  5\n"
     ]
    },
    {
     "name": "stdout",
     "output_type": "stream",
     "text": [
      "Count of digit of 5 is 1\n"
     ]
    }
   ],
   "source": [
    "# Count of digit \n",
    "\n",
    "num=int(input(\"Enter a number : \"))\n",
    "count=0\n",
    "org=num\n",
    "while num>0:\n",
    "     count+=1\n",
    "     num//=10\n",
    "\n",
    "print(f\"Count of digit of {org} is {count}\")"
   ]
  },
  {
   "cell_type": "code",
   "execution_count": 11,
   "id": "200ee8ae-feb5-4329-be73-811ae5d8c6da",
   "metadata": {},
   "outputs": [
    {
     "name": "stdin",
     "output_type": "stream",
     "text": [
      "Enter a number :  123\n"
     ]
    },
    {
     "name": "stdout",
     "output_type": "stream",
     "text": [
      "Sum of digit of 123 is 6\n"
     ]
    }
   ],
   "source": [
    "#  Sum of digit in number\n",
    "\n",
    "num=int(input(\"Enter a number : \"))\n",
    "sum=0\n",
    "org=num\n",
    "while num>0:\n",
    "     \n",
    "     rem=num%10\n",
    "     sum+=rem\n",
    "     num//=10\n",
    "\n",
    "print(f\"Sum of digit of {org} is {sum}\")   "
   ]
  },
  {
   "cell_type": "code",
   "execution_count": 13,
   "id": "ac5c4ea9-c724-49ad-8e17-940905861cc3",
   "metadata": {},
   "outputs": [
    {
     "name": "stdin",
     "output_type": "stream",
     "text": [
      "Enter a number :  1234\n"
     ]
    },
    {
     "name": "stdout",
     "output_type": "stream",
     "text": [
      "First digit of 1234 is 1\n",
      "Last digit of 1234 is 4\n"
     ]
    }
   ],
   "source": [
    "# First and Last Digit of Number\n",
    "\n",
    "\n",
    "num=int(input(\"Enter a number : \"))\n",
    "org=num\n",
    "lastdigit=num%10\n",
    "\n",
    "while num>10:\n",
    "    num//=10\n",
    "    \n",
    "firstdigit=num\n",
    "\n",
    "\n",
    "print(f\"First digit of {org} is {firstdigit}\")\n",
    "print(f\"Last digit of {org} is {lastdigit}\")"
   ]
  },
  {
   "cell_type": "code",
   "execution_count": 14,
   "id": "dc14d725-2e41-4ff0-9601-a03947faff65",
   "metadata": {},
   "outputs": [
    {
     "name": "stdin",
     "output_type": "stream",
     "text": [
      "Enter a number :  1234\n"
     ]
    },
    {
     "name": "stdout",
     "output_type": "stream",
     "text": [
      "Sum of first and last digit of 1234 is 5\n"
     ]
    }
   ],
   "source": [
    "# Sum of First and Last Digit of Number\n",
    "\n",
    "num=int(input(\"Enter a number : \"))\n",
    "org=num\n",
    "lastdigit=num%10\n",
    "\n",
    "while num>=10:\n",
    "    num//=10\n",
    "    \n",
    "firstdigit=num\n",
    "\n",
    "\n",
    "\n",
    "sum=firstdigit+lastdigit\n",
    "\n",
    "print(f\"Sum of first and last digit of {org} is {sum}\")"
   ]
  },
  {
   "cell_type": "code",
   "execution_count": 15,
   "id": "9ca5d0fb-b96b-411f-96bc-fce67be8c0a3",
   "metadata": {},
   "outputs": [
    {
     "name": "stdin",
     "output_type": "stream",
     "text": [
      "Enter a number :  1234\n"
     ]
    },
    {
     "name": "stdout",
     "output_type": "stream",
     "text": [
      "4321\n"
     ]
    }
   ],
   "source": [
    "#  Reverse of a Number\n",
    "\n",
    "num=int(input(\"Enter a number : \"))\n",
    "rev=0\n",
    "while num>0:\n",
    "\n",
    "    rem=num%10\n",
    "    rev=rev*10+rem\n",
    "    num//=10\n",
    "\n",
    "print(rev)"
   ]
  },
  {
   "cell_type": "code",
   "execution_count": 17,
   "id": "c525ab2a-1249-4f44-8028-04df1e89cca7",
   "metadata": {},
   "outputs": [
    {
     "name": "stdin",
     "output_type": "stream",
     "text": [
      "Enter a number :  5\n",
      "Enter power :  3\n"
     ]
    },
    {
     "name": "stdout",
     "output_type": "stream",
     "text": [
      "125\n"
     ]
    }
   ],
   "source": [
    "#  Power of a Number\n",
    "\n",
    "n=int(input(\"Enter a number : \"))\n",
    "p=int(input(\"Enter power : \"))\n",
    "\n",
    "result=1\n",
    "\n",
    "for i in range(0,p):\n",
    "   \n",
    "    result=result*n\n",
    "    \n",
    "print(result)    \n",
    "    \n"
   ]
  },
  {
   "cell_type": "code",
   "execution_count": 23,
   "id": "386da1a3-c0b3-4f27-8a86-a78741263cd5",
   "metadata": {},
   "outputs": [
    {
     "name": "stdin",
     "output_type": "stream",
     "text": [
      "Enter a number :  55\n"
     ]
    },
    {
     "name": "stdout",
     "output_type": "stream",
     "text": [
      "1 5 11 55 "
     ]
    }
   ],
   "source": [
    "# All factors of a number\n",
    "\n",
    "num=int(input(\"Enter a number : \"))\n",
    "i=1\n",
    "while num>=i:\n",
    "  if num%i==0:\n",
    "    print(i,end=' ')\n",
    "\n",
    "  i+=1"
   ]
  },
  {
   "cell_type": "code",
   "execution_count": 25,
   "id": "7bc957bd-ebfb-4bb2-b6d4-97cde1c32551",
   "metadata": {},
   "outputs": [
    {
     "name": "stdin",
     "output_type": "stream",
     "text": [
      "Enter a number :  5\n"
     ]
    },
    {
     "name": "stdout",
     "output_type": "stream",
     "text": [
      "120\n"
     ]
    }
   ],
   "source": [
    "# Factorial of number\n",
    "\n",
    "num=int(input(\"Enter a number : \"))\n",
    "fact=1\n",
    "while num>0:\n",
    "    \n",
    "  fact=fact*num\n",
    "  num-=1\n",
    "  \n",
    "print(fact) "
   ]
  },
  {
   "cell_type": "code",
   "execution_count": 27,
   "id": "16832607-f0c1-43f2-b8cd-49fdb8b23972",
   "metadata": {},
   "outputs": [
    {
     "name": "stdin",
     "output_type": "stream",
     "text": [
      "Enter first number :  33\n",
      "Enter second number :  234\n"
     ]
    },
    {
     "name": "stdout",
     "output_type": "stream",
     "text": [
      "2574\n"
     ]
    }
   ],
   "source": [
    "# LCM of two number\n",
    "\n",
    "num1=int(input(\"Enter first number : \"))\n",
    "num2=int(input(\"Enter second number : \"))\n",
    "\n",
    "if num1>num2:\n",
    "  greater=num1\n",
    "else:\n",
    "    greater=num2\n",
    "\n",
    "while True:\n",
    "  if  greater % num1 == 0 and greater % num2 ==0 :\n",
    "    print(greater) \n",
    "    break \n",
    "  else : \n",
    "    greater+=1   "
   ]
  },
  {
   "cell_type": "code",
   "execution_count": 30,
   "id": "537e2c69-12fb-4699-872c-a03be262601a",
   "metadata": {},
   "outputs": [
    {
     "name": "stdin",
     "output_type": "stream",
     "text": [
      "Enter a number :  3\n"
     ]
    },
    {
     "name": "stdout",
     "output_type": "stream",
     "text": [
      "prime\n"
     ]
    }
   ],
   "source": [
    "# Prime Number \n",
    "\n",
    "num=int(input(\"Enter a number : \"))\n",
    "\n",
    "i=2\n",
    "count=0\n",
    "while num>i:\n",
    "  if num%i==0:\n",
    "    count+=1\n",
    "    break\n",
    "  else:\n",
    "    i+=1 \n",
    "\n",
    "if count==0:\n",
    "  print(\"prime\")  \n",
    "else:   \n",
    "  print(\"Not prime\")  "
   ]
  },
  {
   "cell_type": "code",
   "execution_count": 34,
   "id": "4ac21f05-9781-4bb8-a03a-61588625a80d",
   "metadata": {},
   "outputs": [
    {
     "name": "stdin",
     "output_type": "stream",
     "text": [
      "Enter a number :  345\n"
     ]
    },
    {
     "name": "stdout",
     "output_type": "stream",
     "text": [
      "3 x 5 x 23 "
     ]
    }
   ],
   "source": [
    "# Prime Factors of a number \n",
    "\n",
    "num=int(input(\"Enter a number : \"))\n",
    "i=2\n",
    "while num>1:\n",
    "  if num%i==0:\n",
    "    print(i, end=\" \")\n",
    "    num//=i\n",
    "    if num>1:\n",
    "      print(\"x\",end=\" \")\n",
    "  else:\n",
    "    i+=1"
   ]
  },
  {
   "cell_type": "code",
   "execution_count": 36,
   "id": "680a4678-255a-4364-bb5d-48023998951a",
   "metadata": {},
   "outputs": [
    {
     "name": "stdin",
     "output_type": "stream",
     "text": [
      "Enter a number :  1634\n"
     ]
    },
    {
     "name": "stdout",
     "output_type": "stream",
     "text": [
      "Armstrong\n"
     ]
    }
   ],
   "source": [
    "# Armstrong Number\n",
    "\n",
    "num=int(input(\"Enter a number : \"))\n",
    "\n",
    "digit=0\n",
    "org=num\n",
    "arm=0 \n",
    "\n",
    "while num>0:\n",
    "    digit+=1\n",
    "    num//=10\n",
    "    \n",
    "num=org \n",
    "    \n",
    "while num>0:\n",
    "    \n",
    "   rem=num%10\n",
    "   power=rem**digit    \n",
    "   num//=10\n",
    "   arm=arm+power\n",
    "\n",
    "if org==arm:\n",
    "    print(\"Armstrong\")\n",
    "else:\n",
    "    print(\"Not a Armstrong\")"
   ]
  },
  {
   "cell_type": "code",
   "execution_count": 38,
   "id": "bbb97135-01dd-46cd-8f86-d6adea297129",
   "metadata": {},
   "outputs": [
    {
     "name": "stdin",
     "output_type": "stream",
     "text": [
      "Enter a number :  10\n"
     ]
    },
    {
     "name": "stdout",
     "output_type": "stream",
     "text": [
      "fibonacci series upto 10 is 0 1 1 2 3 5 8 13 21 34 "
     ]
    }
   ],
   "source": [
    "# Fibonacci series\n",
    "\n",
    "num=int(input(\"Enter a number : \"))\n",
    "\n",
    "a=0\n",
    "b=1\n",
    "print(f\"fibonacci series upto {num} is {a} {b}\",end=' ')\n",
    "num-=2\n",
    "while num>0:\n",
    "   \n",
    "    c=a+b\n",
    "    print(c, end=' ')\n",
    "    a=b\n",
    "    b=c\n",
    "    num-=1"
   ]
  },
  {
   "cell_type": "code",
   "execution_count": null,
   "id": "6d5482a3-495d-445f-aa57-e048cce67e46",
   "metadata": {},
   "outputs": [],
   "source": []
  }
 ],
 "metadata": {
  "kernelspec": {
   "display_name": "Python 3 (ipykernel)",
   "language": "python",
   "name": "python3"
  },
  "language_info": {
   "codemirror_mode": {
    "name": "ipython",
    "version": 3
   },
   "file_extension": ".py",
   "mimetype": "text/x-python",
   "name": "python",
   "nbconvert_exporter": "python",
   "pygments_lexer": "ipython3",
   "version": "3.12.7"
  }
 },
 "nbformat": 4,
 "nbformat_minor": 5
}
